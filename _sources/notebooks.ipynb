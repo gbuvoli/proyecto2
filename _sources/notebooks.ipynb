{
 "cells": [
  {
   "cell_type": "code",
   "execution_count": 3,
   "metadata": {},
   "outputs": [],
   "source": [
    "import pandas as pd\n",
    "import numpy as np\n"
   ]
  },
  {
   "cell_type": "code",
   "execution_count": 9,
   "metadata": {},
   "outputs": [],
   "source": [
    "path='DATA_ICFES_SABERPRO_PROFESIONAL_20231.TXT'"
   ]
  },
  {
   "cell_type": "code",
   "execution_count": 13,
   "metadata": {},
   "outputs": [],
   "source": [
    "data=pd.read_csv(path, sep='¬',engine='python')"
   ]
  },
  {
   "cell_type": "code",
   "execution_count": 14,
   "metadata": {},
   "outputs": [
    {
     "data": {
      "text/plain": [
       "Index(['ESTU_TIPODOCUMENTO', 'ESTU_NACIONALIDAD', 'ESTU_GENERO',\n",
       "       'ESTU_FECHANACIMIENTO', 'ESTU_EXTERIOR', 'PERIODO', 'ESTU_CONSECUTIVO',\n",
       "       'ESTU_ESTUDIANTE', 'ESTU_PAIS_RESIDE', 'ESTU_DEPTO_RESIDE',\n",
       "       'ESTU_COD_RESIDE_DEPTO', 'ESTU_MCPIO_RESIDE', 'ESTU_COD_RESIDE_MCPIO',\n",
       "       'ESTU_AREARESIDE', 'ESTU_ESTADOCIVIL', 'ESTU_TITULOOBTENIDOBACHILLER',\n",
       "       'ESTU_VALORMATRICULAUNIVERSIDAD', 'ESTU_PAGOMATRICULABECA',\n",
       "       'ESTU_PAGOMATRICULACREDITO', 'ESTU_PAGOMATRICULAPADRES',\n",
       "       'ESTU_PAGOMATRICULAPROPIO', 'ESTU_COMOCAPACITOEXAMENSB11',\n",
       "       'ESTU_CURSODOCENTESIES', 'ESTU_CURSOIESAPOYOEXTERNO',\n",
       "       'ESTU_CURSOIESEXTERNA', 'ESTU_SIMULACROTIPOICFES',\n",
       "       'ESTU_ACTIVIDADREFUERZOAREAS', 'ESTU_ACTIVIDADREFUERZOGENERIC',\n",
       "       'ESTU_TIPODOCUMENTOSB11', 'ESTU_SEMESTRECURSA', 'FAMI_EDUCACIONPADRE',\n",
       "       'FAMI_EDUCACIONMADRE', 'FAMI_OCUPACIONPADRE', 'FAMI_OCUPACIONMADRE',\n",
       "       'FAMI_ESTRATOVIVIENDA', 'FAMI_TIENEINTERNET', 'FAMI_TIENECOMPUTADOR',\n",
       "       'FAMI_TIENELAVADORA', 'FAMI_TIENEHORNOMICROOGAS',\n",
       "       'FAMI_TIENESERVICIOTV', 'FAMI_TIENEAUTOMOVIL', 'FAMI_TIENEMOTOCICLETA',\n",
       "       'FAMI_TIENECONSOLAVIDEOJUEGOS', 'FAMI_TRABAJOLABORPADRE',\n",
       "       'FAMI_TRABAJOLABORMADRE', 'ESTU_HORASSEMANATRABAJA',\n",
       "       'FAMI_CUANTOSCOMPARTEBAÑO', 'ESTU_PAGOMATRICULA',\n",
       "       'ESTU_VLRULTIMOSEMESCURSADO', 'ESTU_PRESENTACIONCASA',\n",
       "       'ESTU_PRESENTACIONSABADO', 'INST_COD_INSTITUCION',\n",
       "       'INST_NOMBRE_INSTITUCION', 'ESTU_PRGM_ACADEMICO',\n",
       "       'ESTU_SNIES_PRGMACADEMICO', 'GRUPOREFERENCIA', 'ESTU_PRGM_CODMUNICIPIO',\n",
       "       'ESTU_PRGM_MUNICIPIO', 'ESTU_PRGM_DEPARTAMENTO',\n",
       "       'ESTU_NIVEL_PRGM_ACADEMICO', 'ESTU_METODO_PRGM', 'ESTU_NUCLEO_PREGRADO',\n",
       "       'ESTU_NUCLEO_PREGRADO_1', 'ESTU_INST_CODMUNICIPIO',\n",
       "       'ESTU_INST_MUNICIPIO', 'ESTU_INST_DEPARTAMENTO',\n",
       "       'INST_CARACTER_ACADEMICO', 'INST_ORIGEN', 'ESTU_PRIVADO_LIBERTAD',\n",
       "       'ESTU_COD_MCPIO_PRESENTACION', 'ESTU_MCPIO_PRESENTACION',\n",
       "       'ESTU_DEPTO_PRESENTACION', 'ESTU_COD_DEPTO_PRESENTACION',\n",
       "       'MOD_RAZONA_CUANTITAT_PUNT', 'MOD_RAZONA_CUANTITAT_DESEM',\n",
       "       'MOD_RAZONA_CUANTITATIVO_PNAL', 'MOD_RAZONA_CUANTITATIVO_PNBC',\n",
       "       'MOD_LECTURA_CRITICA_PUNT', 'MOD_LECTURA_CRITICA_DESEM',\n",
       "       'MOD_LECTURA_CRITICA_PNAL', 'MOD_LECTURA_CRITICA_PNBC',\n",
       "       'MOD_COMPETEN_CIUDADA_PUNT', 'MOD_COMPETEN_CIUDADA_DESEM',\n",
       "       'MOD_COMPETEN_CIUDADA_PNAL', 'MOD_COMPETEN_CIUDADA_PNBC',\n",
       "       'MOD_INGLES_PUNT', 'MOD_INGLES_DESEM', 'MOD_INGLES_PNAL',\n",
       "       'MOD_INGLES_PNBC', 'MOD_COMUNI_ESCRITA_PUNT',\n",
       "       'MOD_COMUNI_ESCRITA_DESEM', 'MOD_COMUNI_ESCRITA_PNAL',\n",
       "       'MOD_COMUNI_ESCRITA_PNBC', 'PUNT_GLOBAL', 'PERCENTIL_GLOBAL',\n",
       "       'PERCENTIL_NBC', 'ESTU_INSE_INDIVIDUAL', 'ESTU_NSE_INDIVIDUAL',\n",
       "       'ESTU_NSE_IES', 'ESTU_ESTADOINVESTIGACION'],\n",
       "      dtype='object')"
      ]
     },
     "execution_count": 14,
     "metadata": {},
     "output_type": "execute_result"
    }
   ],
   "source": [
    "data.columns"
   ]
  },
  {
   "cell_type": "code",
   "execution_count": 16,
   "metadata": {},
   "outputs": [],
   "source": [
    "path2='Llave_Saber11_SaberPro.txt'"
   ]
  },
  {
   "cell_type": "code",
   "execution_count": 18,
   "metadata": {},
   "outputs": [
    {
     "data": {
      "text/html": [
       "<div>\n",
       "<style scoped>\n",
       "    .dataframe tbody tr th:only-of-type {\n",
       "        vertical-align: middle;\n",
       "    }\n",
       "\n",
       "    .dataframe tbody tr th {\n",
       "        vertical-align: top;\n",
       "    }\n",
       "\n",
       "    .dataframe thead th {\n",
       "        text-align: right;\n",
       "    }\n",
       "</style>\n",
       "<table border=\"1\" class=\"dataframe\">\n",
       "  <thead>\n",
       "    <tr style=\"text-align: right;\">\n",
       "      <th></th>\n",
       "      <th>estu_consecutivo_sbpro;estu_consecutivo_sb11</th>\n",
       "    </tr>\n",
       "  </thead>\n",
       "  <tbody>\n",
       "    <tr>\n",
       "      <th>0</th>\n",
       "      <td>EK201210000628;SB11201020119179</td>\n",
       "    </tr>\n",
       "    <tr>\n",
       "      <th>1</th>\n",
       "      <td>EK201210001522;SB11201020119180</td>\n",
       "    </tr>\n",
       "    <tr>\n",
       "      <th>2</th>\n",
       "      <td>EK201210001647;SB11201020110588</td>\n",
       "    </tr>\n",
       "    <tr>\n",
       "      <th>3</th>\n",
       "      <td>EK201210001663;SB11201020116060</td>\n",
       "    </tr>\n",
       "    <tr>\n",
       "      <th>4</th>\n",
       "      <td>EK201210003701;SB11201020120759</td>\n",
       "    </tr>\n",
       "    <tr>\n",
       "      <th>...</th>\n",
       "      <td>...</td>\n",
       "    </tr>\n",
       "    <tr>\n",
       "      <th>1327617</th>\n",
       "      <td>EK202320007872;SB11201720203256</td>\n",
       "    </tr>\n",
       "    <tr>\n",
       "      <th>1327618</th>\n",
       "      <td>EK202320007873;SB11201720238834</td>\n",
       "    </tr>\n",
       "    <tr>\n",
       "      <th>1327619</th>\n",
       "      <td>EK202320007874;SB11201620082300</td>\n",
       "    </tr>\n",
       "    <tr>\n",
       "      <th>1327620</th>\n",
       "      <td>EK202320007876;SB11201820480129</td>\n",
       "    </tr>\n",
       "    <tr>\n",
       "      <th>1327621</th>\n",
       "      <td>EK202320007881;SB11201820108539</td>\n",
       "    </tr>\n",
       "  </tbody>\n",
       "</table>\n",
       "<p>1327622 rows × 1 columns</p>\n",
       "</div>"
      ],
      "text/plain": [
       "        estu_consecutivo_sbpro;estu_consecutivo_sb11\n",
       "0                    EK201210000628;SB11201020119179\n",
       "1                    EK201210001522;SB11201020119180\n",
       "2                    EK201210001647;SB11201020110588\n",
       "3                    EK201210001663;SB11201020116060\n",
       "4                    EK201210003701;SB11201020120759\n",
       "...                                              ...\n",
       "1327617              EK202320007872;SB11201720203256\n",
       "1327618              EK202320007873;SB11201720238834\n",
       "1327619              EK202320007874;SB11201620082300\n",
       "1327620              EK202320007876;SB11201820480129\n",
       "1327621              EK202320007881;SB11201820108539\n",
       "\n",
       "[1327622 rows x 1 columns]"
      ]
     },
     "execution_count": 18,
     "metadata": {},
     "output_type": "execute_result"
    }
   ],
   "source": [
    "data2=pd.read_csv(path2, sep='¬',engine='python')\n",
    "data2"
   ]
  }
 ],
 "metadata": {
  "kernelspec": {
   "display_name": "Python 3 (ipykernel)",
   "language": "python",
   "name": "python3"
  },
  "language_info": {
   "codemirror_mode": {
    "name": "ipython",
    "version": 3
   },
   "file_extension": ".py",
   "mimetype": "text/x-python",
   "name": "python",
   "nbconvert_exporter": "python",
   "pygments_lexer": "ipython3",
   "version": "3.9.17"
  },
  "widgets": {
   "application/vnd.jupyter.widget-state+json": {
    "state": {},
    "version_major": 2,
    "version_minor": 0
   }
  }
 },
 "nbformat": 4,
 "nbformat_minor": 4
}
